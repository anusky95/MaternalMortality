{
 "cells": [
  {
   "cell_type": "code",
   "execution_count": 15,
   "metadata": {},
   "outputs": [
    {
     "name": "stdout",
     "output_type": "stream",
     "text": [
      "Index(['country', 'Year1990', 'Year1995', 'Year2000', 'Year2005', 'Year2010',\n",
      "       'Year2015'],\n",
      "      dtype='object')\n",
      "       country  Year1990  Year1995  Year2000  Year2005  Year2010  Year2015\n",
      "0  Afghanistan      1340      1270      1100       821       584       396\n",
      "1      Albania        71        53        43        30        30        29\n",
      "2      Algeria       216       192       170       148       147       140\n",
      "3       Angola      1160      1150       924       705       561       477\n",
      "4    Argentina        72        63        60        58        58        52\n",
      "5      Armenia        58        50        40        40        33        25\n",
      "6    Australia         8         8         9         7         6         6\n",
      "7      Austria         8         6         5         5         4         4\n",
      "8   Azerbaijan        64        86        48        34        27        25\n",
      "9      Bahamas        46        49        61        74        85        80\n",
      "          Year1990     Year1995     Year2000     Year2005     Year2010  \\\n",
      "count   183.000000   183.000000   183.000000   183.000000   183.000000   \n",
      "mean    339.622951   308.513661   270.846995   229.513661   194.338798   \n",
      "std     451.100979   430.413051   379.013379   313.456797   265.671169   \n",
      "min       5.000000     4.000000     4.000000     3.000000     3.000000   \n",
      "25%      31.500000    26.500000    22.500000    18.500000    16.000000   \n",
      "50%     107.000000    90.000000    77.000000    64.000000    59.000000   \n",
      "75%     568.500000   503.500000   453.500000   374.000000   305.500000   \n",
      "max    2630.000000  2900.000000  2650.000000  1990.000000  1630.000000   \n",
      "\n",
      "          Year2015  \n",
      "count   183.000000  \n",
      "mean    168.699454  \n",
      "std     232.377611  \n",
      "min       3.000000  \n",
      "25%      14.000000  \n",
      "50%      54.000000  \n",
      "75%     229.000000  \n",
      "max    1360.000000  \n"
     ]
    }
   ],
   "source": [
    "import re\n",
    "import csv\n",
    "import nltk\n",
    "from nltk.corpus import stopwords\n",
    "from nltk.stem import PorterStemmer\n",
    "from nltk.tokenize import sent_tokenize, word_tokenize\n",
    "from nltk.tokenize import word_tokenize\n",
    "import pandas as pd\n",
    "import numpy as np\n",
    "import matplotlib.pyplot as plt\n",
    "from pandas import DataFrame\n",
    "\n",
    "df = pd.read_csv('C:/UdacityBertelsmannScholarship/MortalityRate.csv', sep=',')\n",
    "dfm = pd.DataFrame()\n",
    "dfm['country'] = df['Countries/Regions']\n",
    "dfm['Year1990'] = df['1990']\n",
    "dfm['Year1995'] = df['1995']\n",
    "dfm['Year2000'] = df['2000']\n",
    "dfm['Year2005'] = df['2005']\n",
    "dfm['Year2010'] = df['2010']\n",
    "dfm['Year2015'] = df['2015']\n",
    "print(dfm.columns)\n",
    "print(dfm.head(10))\n",
    "print(dfm.describe())\n"
   ]
  },
  {
   "cell_type": "code",
   "execution_count": 22,
   "metadata": {},
   "outputs": [
    {
     "data": {
      "image/png": "[encoded data removed]",
      "text/plain": [
       "<matplotlib.figure.Figure at 0x25cd178d240>"
      ]
     },
     "metadata": {},
     "output_type": "display_data"
    }
   ],
   "source": [
    "#Global maternal mortality rate\n",
    "x = [1990,1995,2000,2005,2010,2015]\n",
    "y = [339.62,308.513,270.85,229.51,194.33,168.70]\n",
    "plt.plot(x,y)\n",
    "plt.xlabel('Year')\n",
    "plt.ylabel('Maternity Rate')\n",
    "\n",
    "plt.show()\n",
    "\n",
    "#Decrease by 50.33%"
   ]
  },
  {
   "cell_type": "code",
   "execution_count": null,
   "metadata": {
    "collapsed": true
   },
   "outputs": [],
   "source": []
  }
 ],
 "metadata": {
  "kernelspec": {
   "display_name": "Python 3",
   "language": "python",
   "name": "python3"
  },
  "language_info": {
   "codemirror_mode": {
    "name": "ipython",
    "version": 3
   },
   "file_extension": ".py",
   "mimetype": "text/x-python",
   "name": "python",
   "nbconvert_exporter": "python",
   "pygments_lexer": "ipython3",
   "version": "3.6.1"
  }
 },
 "nbformat": 4,
 "nbformat_minor": 2
}
